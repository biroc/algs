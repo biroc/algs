{
 "cells": [
  {
   "cell_type": "markdown",
   "metadata": {},
   "source": [
    "## Chapter 1 - Arrays and strings."
   ]
  },
  {
   "cell_type": "markdown",
   "metadata": {},
   "source": [
    "1.1 **Is Unique** - Implement an algorithm to determine if a string has all unique characters. What if you cannot use additional data strctures?"
   ]
  },
  {
   "cell_type": "code",
   "execution_count": 1,
   "metadata": {
    "collapsed": true
   },
   "outputs": [],
   "source": [
    "# Implementation using hashmap\n",
    "# Time complexity: O(N)\n",
    "# Space complexity: O(N)\n",
    "def is_unique(string):\n",
    "    if not string:\n",
    "        return True\n",
    "    characters = {}\n",
    "    for c in string:\n",
    "        if c in characters:\n",
    "            return False\n",
    "        characters[c] = True\n",
    "    return True"
   ]
  },
  {
   "cell_type": "code",
   "execution_count": 2,
   "metadata": {
    "collapsed": true
   },
   "outputs": [],
   "source": [
    "# Implementation without additional datastrctures\n",
    "# Time complexity: O(NlogN)\n",
    "# Space complexity: O(1)\n",
    "def is_unique(string):\n",
    "    if not string:\n",
    "        return True\n",
    "    string = sorted(string)\n",
    "    for index, value in enumerate(string[1:]):\n",
    "        if string[i] == string[i-1]:\n",
    "            return False\n",
    "    return True"
   ]
  },
  {
   "cell_type": "markdown",
   "metadata": {},
   "source": [
    "1.2 **Check Permutation**: Given two strings, write a method to decide if one is a permutation of the other."
   ]
  },
  {
   "cell_type": "code",
   "execution_count": 17,
   "metadata": {
    "collapsed": true
   },
   "outputs": [],
   "source": [
    "# Permutations are rearengements of a contigous data structure\n",
    "# Conditions: - same number of characters - same characters\n",
    "# Approach: \n",
    "# 1.Linearly go through the first string and store character counts for it.\n",
    "# 2.Linearly go through the second string and decrement the counts stored from the first string, checking if any count\n",
    "# goes below 0.\n",
    "# Time complexity: O(N)\n",
    "# Space complexity: O(N)\n",
    "def check_permutation(first, second):\n",
    "    if len(first) != len(second):\n",
    "        return False\n",
    "    \n",
    "    characters = {}\n",
    "    for c in first:\n",
    "        characters[c] = characters.get(c, 0) + 1\n",
    "    for c in second:\n",
    "        if c not in characters or characters[c] == 0:\n",
    "            return False\n",
    "        characters[c] -= 1\n",
    "    return True\n",
    "\n",
    "# Alternative approach: Sort both strings and compare every character at each position."
   ]
  },
  {
   "cell_type": "markdown",
   "metadata": {},
   "source": [
    "1.3 **URLify** - Write a method to replace all spaces in a string with '%20'. You may assume that the string has sufficient space at the end to hold the additional charaters, and that you are given the 'true' length of the string. (Note: if implementing in Java, please use a character array so that you can perform this operation in place)."
   ]
  },
  {
   "cell_type": "code",
   "execution_count": 16,
   "metadata": {
    "collapsed": true
   },
   "outputs": [],
   "source": [
    "# Time complexity: O(N)\n",
    "# Space complexity: O(N)\n",
    "def URLify(string):\n",
    "    # Count spaces\n",
    "    spaces = 0\n",
    "    for c in string:\n",
    "        if c == ' ':\n",
    "            spaces += 1\n",
    "    new_length = len(string) + spaces * 2\n",
    "    j = new_length - 1\n",
    "    new_string = [0] * new_length\n",
    "    for i in range(len(string)-1,-1,-1):\n",
    "        if string[i] != ' ':\n",
    "            new_string[j] = string[i]\n",
    "            j -= 1\n",
    "        else:\n",
    "            new_string[j] = '0'\n",
    "            new_string[j-1] = '2'\n",
    "            new_string[j-2] = '%'\n",
    "            j -= 3\n",
    "    return ''.join(new_string)"
   ]
  },
  {
   "cell_type": "markdown",
   "metadata": {},
   "source": [
    "1.4 **Palindrome Permutation** - Given a string, write a function to check if it is a permutation of a palindrome. A palindrome is a word or phrase that is the same forwards and backwards. A permutation is a rearengement of letters. The palindrome does not need to be limited to just dictionary words."
   ]
  },
  {
   "cell_type": "code",
   "execution_count": 25,
   "metadata": {
    "collapsed": true
   },
   "outputs": [],
   "source": [
    "# For a string to be a permutation of a palindrome, the count of each character except at most 1 should be an even number.\n",
    "# Time complexity: O(N)\n",
    "# Space complexity: O(N)\n",
    "def palindrome_permutation(string):\n",
    "    if not string:\n",
    "        return True\n",
    "    characters = {}\n",
    "    string = string.strip().lower()\n",
    "    for c in string:\n",
    "        if c != ' ':\n",
    "            characters[c] = characters.get(c, 0) + 1\n",
    "    odd = 0\n",
    "    for key in characters:\n",
    "        if characters[key] % 2 != 0:\n",
    "            odd += 1\n",
    "        if odd > 1:\n",
    "            return False\n",
    "    return True"
   ]
  },
  {
   "cell_type": "markdown",
   "metadata": {},
   "source": [
    "1.5 **One Away** - There are three types of edits that can be performed on strings: insert a character, remove a character, or replace a characters. Given two strings, write a function to check if they are one edit away. (In CTCI it is 'one or zero edits away, i.e. maximum 1 edit away, this version check if the strings are **exactly** one edit away)"
   ]
  },
  {
   "cell_type": "code",
   "execution_count": 27,
   "metadata": {
    "collapsed": true
   },
   "outputs": [],
   "source": [
    "# Time complexity: O(N)\n",
    "# Space complexity; O(1)\n",
    "def one_away(first, second):\n",
    "    n = len(first)\n",
    "    m = len(second)\n",
    "    if abs(n-m) > 1:\n",
    "        return False\n",
    "    if n > m:\n",
    "        return one_away(second, first)\n",
    "    difference = m - n\n",
    "    i = 0\n",
    "    while i < n and first[i] == second[i]:\n",
    "        i += 1\n",
    "    if i == n:\n",
    "        return difference == 1\n",
    "    if difference == 0:\n",
    "        i += 1\n",
    "    while i < n and first[i] == second[diff + i]:\n",
    "        i += 1\n",
    "    return i == n"
   ]
  },
  {
   "cell_type": "markdown",
   "metadata": {},
   "source": [
    "1.6 **String Compression** - Implement a method to perform basic string compression using the counts of repeated characters. For example, the string 'aabcccccaaa' would become 'a2b1c5a3'. If the 'compressed' string would not become smaller than the original string, your method should return the original string. You can assume the string has only uppercase and lowercase letters (a-z)."
   ]
  },
  {
   "cell_type": "code",
   "execution_count": 35,
   "metadata": {
    "collapsed": true
   },
   "outputs": [],
   "source": [
    "# Time complexity: O(N)\n",
    "# Space complexity: O(N)\n",
    "def string_compression(string):\n",
    "    if not string:\n",
    "        return None\n",
    "    character = string[0]\n",
    "    count = 1\n",
    "    new = ''\n",
    "    for c in string[1:]:\n",
    "        if c == character:\n",
    "            count += 1\n",
    "        else:\n",
    "            new += character\n",
    "            new += str(count)\n",
    "            character = c\n",
    "            count = 1\n",
    "    new += character\n",
    "    new += str(count)\n",
    "    return new if len(new) < len(string) else string"
   ]
  },
  {
   "cell_type": "markdown",
   "metadata": {},
   "source": [
    "1.7 **Rotate Matrix** - Given an image represented by a NxN matrix, where each pixel in the image is 4 bytes, write a method to rotate the image by 90 degrees. Can you do this in place."
   ]
  },
  {
   "cell_type": "code",
   "execution_count": 63,
   "metadata": {
    "collapsed": true
   },
   "outputs": [],
   "source": [
    "# Time complexity : O(N^2)\n",
    "def rotate_matrix(matrix):\n",
    "    num_layers = len(matrix) // 2\n",
    "    length = len(matrix) - 1\n",
    "    for layer in range(num_layers):\n",
    "        for i in range(layer, length - layer):\n",
    "            top = matrix[layer][i]\n",
    "            matrix[layer][i] = matrix[length - i][layer]\n",
    "            matrix[length - i][layer] = matrix[length - layer][length - i]\n",
    "            matrix[length - layer][length - i] = matrix[i][length - layer]\n",
    "            matrix[i][length - layer] = top\n",
    "    \n",
    "    return matrix"
   ]
  },
  {
   "cell_type": "markdown",
   "metadata": {},
   "source": [
    "1.8 **Zero matrix** - Write an algorithm such that if an element in an MxN matrix is 0, its entire row and column are set to 0."
   ]
  },
  {
   "cell_type": "code",
   "execution_count": 65,
   "metadata": {
    "collapsed": false
   },
   "outputs": [],
   "source": [
    "def zero_matrix(matrix):\n",
    "    # Check if first row or first columns have a 0 on them.\n",
    "    rowZero = False\n",
    "    colZero = False\n",
    "    for i in range(len(matrix[0])):\n",
    "        if matrix[0][i] == 0:\n",
    "            rowZero = True\n",
    "            break\n",
    "            \n",
    "    for i in range(len(matrix)):\n",
    "        if matrix[i][0] == 0:\n",
    "            colZero = True\n",
    "            break\n",
    "    \n",
    "    for i in range(1, len(matrix)):\n",
    "        for j in range(1, len(matrix[0])):\n",
    "            if matrix[i][j] == 0:\n",
    "                matrix[0][j] = 0\n",
    "                matrix[i][0] = 0\n",
    "    \n",
    "    for i in range(len(matrix[0])):\n",
    "        if matrix[0][i] == 0:\n",
    "            # nullify column\n",
    "            nullify_col(i)\n",
    "            \n",
    "    for i in range(len(matrix)):\n",
    "        if matrix[i][0] == 0:\n",
    "            # nullify row\n",
    "            nullify_row(i)\n",
    "            \n",
    "    if rowZero:\n",
    "        # nullify first row\n",
    "        nullify_row(0)\n",
    "        \n",
    "    if colZero:\n",
    "        # nullify first col\n",
    "        nullify_col(0)\n",
    "        \n",
    "    return matrix"
   ]
  },
  {
   "cell_type": "markdown",
   "metadata": {},
   "source": [
    "1.9 **String Rotation**: Assume you have a method isSubstring which check if one word is a substring of another. Given two strings, s1 and s2, write code to check if s2 is a rotation of s1 using only one call to isSubstring (e.g., 'waterbottle' is a rotation of 'erbottlewat')"
   ]
  },
  {
   "cell_type": "code",
   "execution_count": 66,
   "metadata": {
    "collapsed": true
   },
   "outputs": [],
   "source": [
    "def string_rotation(s1,s2):\n",
    "    s1 = s1 + s1\n",
    "    return isSubstring(s1,s2)"
   ]
  },
  {
   "cell_type": "code",
   "execution_count": null,
   "metadata": {
    "collapsed": true
   },
   "outputs": [],
   "source": []
  }
 ],
 "metadata": {
  "kernelspec": {
   "display_name": "Python 2",
   "language": "python",
   "name": "python2"
  },
  "language_info": {
   "codemirror_mode": {
    "name": "ipython",
    "version": 2
   },
   "file_extension": ".py",
   "mimetype": "text/x-python",
   "name": "python",
   "nbconvert_exporter": "python",
   "pygments_lexer": "ipython2",
   "version": "2.7.11"
  }
 },
 "nbformat": 4,
 "nbformat_minor": 0
}
