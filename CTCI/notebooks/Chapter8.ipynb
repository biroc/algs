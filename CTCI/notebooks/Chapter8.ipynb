{
 "cells": [
  {
   "cell_type": "markdown",
   "metadata": {},
   "source": [
    "## Chapter 8 - Recursion and dynamic programming"
   ]
  },
  {
   "cell_type": "markdown",
   "metadata": {},
   "source": [
    "Most common ways of dividing a problem into subproblems.\n",
    "\n",
    "* Bottom-up Approach. Often the most intuitive. Start with understanding how to solve the problem for a simple case. Like a list with only one element. Then we figure out how to solve the problem for two elements, then for three elements, and so on. The key ehre is to think about how you can build th4e solution for one case off of the previous cases (or multiple previous cases). Like the problem with the number of ways one can reach the top of a certain number of stairs given he take steps of 1 or steps of 2. Hypothetically, think if there was only 1 stair. There would be 1 way. If there were 2 stairs? There are 2 ways, the way of reaching the stair directly with 2 steps and the way of reaching the stair by going 1 and 1. What about 3? It's the number of ways to reach the previous step and the previous previous step.,etc.\n",
    "\n",
    "* Top-down Approach. The top-down approach can be more complex since it's less concrete. But sometimes, it's the best way to think about the problem. In these problems, we think about how we can divide the problem for case N into subproblems. Be careful of overlap between the cases.\n",
    "\n",
    "* Half and half approach. In addition to top-down and bottom-up approaches, it's often effective to divide the data set in half. For example, binary search works with 'half-and-half' approach. When we look for an element in a sorted array, we first figure out which half of the array contains the value. Then we recurse and search for it in that half. Merge sort is half-and-half. Sort each half of the array and then merge together the sorted halves.\n",
    "\n"
   ]
  },
  {
   "cell_type": "markdown",
   "metadata": {},
   "source": [
    "#### Dynamic programming & Memoization"
   ]
  },
  {
   "cell_type": "markdown",
   "metadata": {},
   "source": [
    "Dynamic programming is mostly a matter of taking a recursive algorithm and finding the overlapping subproblems. (the reapted calls). You then cache those results for future recursive calls.\n",
    "\n",
    "A way of illustrating this is with fibbonaci numbers."
   ]
  },
  {
   "cell_type": "code",
   "execution_count": 4,
   "metadata": {
    "collapsed": false
   },
   "outputs": [
    {
     "data": {
      "text/plain": [
       "'\\nObserv ca in exercitiile de memoizare merau stocam calculul resursiei in hash si returnam hash-ul de la pozitia\\ncurenta. Deci ar fi:\\n- Tratare caz de baza\\n- Verificare existenta valoare in hash pentru pozitie curenta.\\n- Daca nu exista, calcul recursiv all valorii pentru pozitia curenta\\n- Returnam hash de pozitia curenta.\\n'"
      ]
     },
     "execution_count": 4,
     "metadata": {},
     "output_type": "execute_result"
    }
   ],
   "source": [
    "# Recursive\n",
    "def fibonacci(i):\n",
    "    if i == 0:\n",
    "        return 0\n",
    "    if i == 1:\n",
    "        return 1\n",
    "    return fibonacci(i-1) + fibonacci(i-2)\n",
    "\n",
    "# Optimizing the algorithm using memoization\n",
    "def fibonacci(i,memo={}):\n",
    "    if i == 0 or i == 1:\n",
    "        return i\n",
    "    \n",
    "    if not memo[i]:\n",
    "        memo[i] = fibonacci(i-1,memo) + fibonacci(i-2,memo)\n",
    "        \n",
    "    return memo[i]\n",
    "\n",
    "\"\"\"\n",
    "Observ ca in exercitiile de memoizare merau stocam calculul resursiei in hash si returnam hash-ul de la pozitia\n",
    "curenta. Deci ar fi:\n",
    "- Tratare caz de baza\n",
    "- Verificare existenta valoare in hash pentru pozitie curenta.\n",
    "- Daca nu exista, calcul recursiv all valorii pentru pozitia curenta\n",
    "- Returnam hash de pozitia curenta.\n",
    "\"\"\""
   ]
  },
  {
   "cell_type": "code",
   "execution_count": 5,
   "metadata": {
    "collapsed": true
   },
   "outputs": [],
   "source": [
    "# Bottom-up approach \n",
    "# Bottom up presupune to sa ne folosim de subproblemele stocate in hash. Numai ca incepem cu cazurile de baza, sau \n",
    "# primele cateva cazuri deja construite manual.\n",
    "def fibonacci(n):\n",
    "    if n == 0:\n",
    "        return 0\n",
    "    if n == 1:\n",
    "        return 1\n",
    "    \n",
    "    mem = [0] * n\n",
    "    mem[0] = 0\n",
    "    mem[1] = 1\n",
    "    for i in range(2,n):\n",
    "        mem[i] = mem[i-1] + mem[i-2]\n",
    "    \n",
    "    return mem[n-1] + mem[n-2]\n",
    "\n",
    "# Aici de tinut minte este: - Faptul ca se calculeaza pasii de baza initial si sunt stocati in hash/array\n",
    "# - Iterezi pornind de la caz de baza + 1 pana la pozitia dorita, si construiesti solutiile folosind valorile\n",
    "# solutiilor anterioare.\n",
    "# - Returnezi folosindd formula de calcul aplicata pozitiei curente."
   ]
  },
  {
   "cell_type": "markdown",
   "metadata": {},
   "source": [
    "8.1 **Triple step** - A child is running up a staicase with n steps and can hop either 1 step, 2 steps or 3 steps at a time. Implement a method to count how many possible ways the child can run up the stairs."
   ]
  },
  {
   "cell_type": "code",
   "execution_count": 12,
   "metadata": {
    "collapsed": true
   },
   "outputs": [],
   "source": [
    "def triple_step(n,memo):\n",
    "    if n < 0:\n",
    "        return 0\n",
    "    if n == 0:\n",
    "        return 1\n",
    "    \n",
    "    if memo[n] == -1:\n",
    "        memo[n] = triple_step(n-1,memo) + triple_step(n-2,memo) + triple_step(n-3,memo)\n",
    "        \n",
    "    return memo[n]"
   ]
  },
  {
   "cell_type": "markdown",
   "metadata": {},
   "source": [
    "8.2 **Robot in a Grid** - Imagine a robot sitting on the upper left corner of grid r rows and c columns. The robot can only move in two directions, right and down, but certain cells are 'off limits', such that the robot cannot step on them. Design an algorithm to find a path for the robot from the top left to the bottom right."
   ]
  },
  {
   "cell_type": "code",
   "execution_count": 22,
   "metadata": {
    "collapsed": false
   },
   "outputs": [],
   "source": [
    "\"\"\"\n",
    "Lets think about this logically similar to the way we did with the staircase exercise.\n",
    "We know we can only move right and down. Our goal is to reach to the bottom right corner.\n",
    "Lets assume we are at the bottom right corner. How did we reach this point? We either came down from the cell above it\n",
    "or went right from the cell to the left of it. How did we reach those cells?, etc.\n",
    "So at every cell in the grid, we are basically asked what is the number of moves needed we can reach the bottom right cell from\n",
    "the current position? -> For the cell immediatly above and the one immediatly to the left there would be only one choice.\n",
    "\n",
    "In CTCI the exercise asks us to 'find a path' aka find all the viable paths to the bottom left corner. Let's initally do a more\n",
    "clear exercise where we count the NUMBER of paths to the bottom right corner.\n",
    "\n",
    "So to compute the number of ways you can reach the bottom right from a certain position we consider the way we can actually\n",
    "move from that position. positions[row][col] = positions[row+1][col] + positions[row][col+1]\n",
    "\"\"\"\n",
    "# First solve it without obstacles\n",
    "# Receive matrix dimension size as input\n",
    "def positions(m,n):\n",
    "    # m - number of rows in matrix\n",
    "    # n - number of cols in matrix\n",
    "    matrix = [[0 for i in range(n)]for j in range(m)]\n",
    "    return paths(matrix,0,0)\n",
    "\n",
    "def paths(matrix,row,col):\n",
    "    # We've reached the bottom right corner\n",
    "    if row == len(matrix) - 1 and col == len(matrix[0]) - 1:\n",
    "        return 1\n",
    "    \n",
    "    # We've exited the grid, return 0 \n",
    "    if row >= len(matrix) or col >= len(matrix[0]):\n",
    "        return 0\n",
    "    \n",
    "    # Check for memoized value.\n",
    "    if matrix[row][col] == 0:\n",
    "        matrix[row][col] = paths(matrix,row+1,col) + paths(matrix,row,col+1)\n",
    "    \n",
    "    # Return number of paths at position.\n",
    "    return matrix[row][col]"
   ]
  },
  {
   "cell_type": "code",
   "execution_count": 24,
   "metadata": {
    "collapsed": false
   },
   "outputs": [],
   "source": [
    "# Now let's try to solve the problem with the paths\n",
    "# To build a list of paths, basically we need to think about storing every node we visit into an array,\n",
    "# and when we reach the bottom right corner of the matrix, we would print out all the elements in the array.\n",
    "# Sounds good. How do we explore all paths? We use backtracking, basically if we are at point a,b. we will explore\n",
    "# to the right and down, by placing the node in the array lost, when we return from the recursion we remove the \n",
    "# node combinations from the list.\n",
    "# We will also account for blocks along the way. Blocks (cells that cannot ba accesed and block our paths.) will be\n",
    "# marked with a 1 inside.\n",
    "def ppaths(n,m):\n",
    "    matrix = [[0 for i in range(n)]for j in range(m)]\n",
    "    paths = []\n",
    "    find_paths(matrix,0,0,paths)\n",
    "    return paths\n",
    "def find_paths(matrix,row,col,paths):\n",
    "    if row == len(matrix) - 1 and col == len(matrix[0]) -1:\n",
    "        ' '.join(str(cell) for cell in paths)\n",
    "    \n",
    "    # We are out of bounds\n",
    "    if row >= len(matrix) or col >= len(matrix[0]):\n",
    "        return\n",
    "    \n",
    "    # We hit a block\n",
    "    if matrix[row][col] == 1:\n",
    "        return\n",
    "    \n",
    "    paths.append((row,col))\n",
    "    find_paths(matrix,row+1,col,paths)\n",
    "    paths.pop()\n",
    "    \n",
    "    paths.append((row,col))\n",
    "    find_paths(matrix,row,col+1,paths)\n",
    "    paths.pop()\n",
    "    "
   ]
  },
  {
   "cell_type": "markdown",
   "metadata": {},
   "source": [
    "8.3 **Magic index** A magic index in an array A[0..n-1] is defined to be an index such that A[i] = i. Given a sorted array of distinct integers, write a method to find a magic index, if one exists, in array A."
   ]
  },
  {
   "cell_type": "code",
   "execution_count": 25,
   "metadata": {
    "collapsed": false
   },
   "outputs": [
    {
     "data": {
      "text/plain": [
       "'\\nSo lets try a sort of binary search approach here. And go case by case from there.\\nWe pick hthe middle index of the array, so A[N/2], what are the possible cases?\\n\\ni = N/2\\n1. A[i] == i is exactly N/2. Great, we found it, stop and return.\\n2. A[i] > i, the value at index i is greater than index i. So we must look for smaller values and hope that the values\\ndecrease faster than the index (which decreases incrementally by 1). Therefore we need to look in the subarray A[0-i]\\n3. A[i] < i. The index is larger than the value. We cannot go left as the value will only decrease, so we must go right\\nand again hope that the values grow faster in the array than the index does.\\nSo rule is: current value == current index, return. current value > current index, go to left subarray.\\ncurrent values < current index go to right subarray.\\n'"
      ]
     },
     "execution_count": 25,
     "metadata": {},
     "output_type": "execute_result"
    }
   ],
   "source": [
    "\"\"\"\n",
    "So lets try a sort of binary search approach here. And go case by case from there.\n",
    "We pick hthe middle index of the array, so A[N/2], what are the possible cases?\n",
    "\n",
    "i = N/2\n",
    "1. A[i] == i is exactly N/2. Great, we found it, stop and return.\n",
    "2. A[i] > i, the value at index i is greater than index i. So we must look for smaller values and hope that the values\n",
    "decrease faster than the index (which decreases incrementally by 1). Therefore we need to look in the subarray A[0-i]\n",
    "3. A[i] < i. The index is larger than the value. We cannot go left as the value will only decrease, so we must go right\n",
    "and again hope that the values grow faster in the array than the index does.\n",
    "So rule is: current value == current index, return. current value > current index, go to left subarray.\n",
    "current values < current index go to right subarray.\n",
    "\"\"\""
   ]
  },
  {
   "cell_type": "markdown",
   "metadata": {},
   "source": [
    "8.4 **Power Set** Write a method to return all subsets of a set."
   ]
  },
  {
   "cell_type": "code",
   "execution_count": 37,
   "metadata": {
    "collapsed": true
   },
   "outputs": [],
   "source": [
    "def subsets(array,start_index,subs,current):\n",
    "    for i in range(start_index,len(array)):\n",
    "        current.append(array[i])\n",
    "        subs.append(current[:])\n",
    "        if start_index < len(array) - 1:\n",
    "            subsets(array,i+1,subs,current)\n",
    "        current.pop()\n",
    "        \n",
    "    return current"
   ]
  },
  {
   "cell_type": "markdown",
   "metadata": {},
   "source": [
    "8.5 **Recrusive Multiply** Write a recursive function to multiply two numbers without using the * operator. You can use addition, subtraction, and bit shifting, but you should minimize the number of those operations."
   ]
  },
  {
   "cell_type": "code",
   "execution_count": 72,
   "metadata": {
    "collapsed": true
   },
   "outputs": [],
   "source": [
    "def mult(a,b):\n",
    "    if not b:\n",
    "        return 0\n",
    "    \n",
    "    a = a + mult(a,b-1)\n",
    "    return a"
   ]
  },
  {
   "cell_type": "markdown",
   "metadata": {},
   "source": [
    "8.6 **Towers of Hanoi**  In the classic problem of the Twoers of Hanoi you have 3 towers and N disks of different sizes which can slide onto any tower. The puzzle starts with disks sorted in ascending order of size from top to bottom (i.e. each disk sits on top of an even larger one). You have the following constraints:\n",
    "* Only one disk can be moved at a time.\n",
    "* A disk is slid off the top of one tower onto the next tower.\n",
    "* A disk can only be placed on top of a larger disk.\n",
    "Write a program to move the disks from the first tower to the last using stacks."
   ]
  },
  {
   "cell_type": "code",
   "execution_count": null,
   "metadata": {
    "collapsed": true
   },
   "outputs": [],
   "source": [
    "def move_disks(n, origin, destination ,buffer):\n",
    "    if n == 0:\n",
    "        return\n",
    "    move_disks(n-1,origin,buffer,destination)\n",
    "    move_top(origin,destination)\n",
    "    move_disks(n-1,buffer,destination,origin)\n",
    "\n",
    "\n",
    "def move_top(origin,destination):\n",
    "    v = origin.pop()\n",
    "    destination.append(v)"
   ]
  },
  {
   "cell_type": "markdown",
   "metadata": {},
   "source": [
    "8.7 **Permutations without Dups** Write a method to compute all permutations of a string of unique characters."
   ]
  },
  {
   "cell_type": "code",
   "execution_count": 26,
   "metadata": {
    "collapsed": false
   },
   "outputs": [],
   "source": [
    "def permutations(perms,string,perm=''):\n",
    "    if not string:\n",
    "        perms.append(perm)\n",
    "    \n",
    "    for i in range(len(string)):\n",
    "        curr = string[i]\n",
    "        rest = string[:i] + string[i+1:]\n",
    "        permutations(perms,rest,perm + curr)"
   ]
  },
  {
   "cell_type": "code",
   "execution_count": 27,
   "metadata": {
    "collapsed": false
   },
   "outputs": [
    {
     "name": "stdout",
     "output_type": "stream",
     "text": [
      "['abc', 'acb', 'bac', 'bca', 'cab', 'cba']\n"
     ]
    }
   ],
   "source": [
    "perms = list()\n",
    "permutations(perms,'abc')\n",
    "print perms"
   ]
  },
  {
   "cell_type": "markdown",
   "metadata": {},
   "source": [
    "8.8 **Permutations with Dups** Write a method to compute all permutations of a string whose characters are not necesarily unique. The list of permutations should not have duplicates."
   ]
  },
  {
   "cell_type": "code",
   "execution_count": 28,
   "metadata": {
    "collapsed": true
   },
   "outputs": [],
   "source": [
    "def permute(input):\n",
    "    elem_map = {}\n",
    "    for elem in input:\n",
    "        elem_map[elem] = elem_map.get(elem,0) + 1\n",
    "\n",
    "    keys = sorted(elem_map)\n",
    "    elems = []\n",
    "    count = []\n",
    "    for key in keys:\n",
    "        elems.append(key)\n",
    "        count.append(elem_map[key])\n",
    "\n",
    "    result = [0 for x in range(len(input))]\n",
    "    perm_helper(elems,count,result,0)\n",
    "\n",
    "\n",
    "def perm_helper(elems, count, result, level):\n",
    "    if level == len(result):\n",
    "        print(result)\n",
    "        return\n",
    "\n",
    "    for i in range(len(elems)):\n",
    "        if count[i] == 0:\n",
    "            continue\n",
    "\n",
    "        result[level] = elems[i]\n",
    "        count[i] -= 1\n",
    "        perm_helper(elems,count,result,level+1)\n",
    "        count[i] += 1"
   ]
  },
  {
   "cell_type": "markdown",
   "metadata": {},
   "source": [
    "8.9 **Parens** Implement an algorithm to print all valid(e.g., properly opened and closed) combinations of n pairs of parentheses.\n",
    "EXAMPLE\n",
    "Input: 3\n",
    "Output: ((())), (()()), (())(), ()(()),()()()"
   ]
  },
  {
   "cell_type": "code",
   "execution_count": 45,
   "metadata": {
    "collapsed": true
   },
   "outputs": [],
   "source": [
    "def compute(n):\n",
    "    string_array = []\n",
    "    list = []\n",
    "    compute_parens(list,n,n,string_array)\n",
    "    for i,l in enumerate(list):\n",
    "        l = ''.join(e for e in l)\n",
    "        list[i] = l\n",
    "    return list\n",
    "\n",
    "\n",
    "def compute_parens(list,left,right,current):\n",
    "    if right < 0 or left > right:\n",
    "        return\n",
    "\n",
    "    if left == 0 and right == 0:\n",
    "        list.append(current[:])\n",
    "    else:\n",
    "        if left > 0:\n",
    "            current.append('(')\n",
    "            compute_parens(list,left-1,right,current)\n",
    "            current.pop()\n",
    "\n",
    "        if right > left:\n",
    "            current.append(')')\n",
    "            compute_parens(list,left,right-1,current)\n",
    "            current.pop()"
   ]
  },
  {
   "cell_type": "code",
   "execution_count": 46,
   "metadata": {
    "collapsed": false
   },
   "outputs": [
    {
     "data": {
      "text/plain": [
       "['((()))', '(()())', '(())()', '()(())', '()()()']"
      ]
     },
     "execution_count": 46,
     "metadata": {},
     "output_type": "execute_result"
    }
   ],
   "source": [
    "compute(3)"
   ]
  },
  {
   "cell_type": "markdown",
   "metadata": {},
   "source": [
    "8.10 **Paint Fill**: Implement the 'paint fill' function that one might see on many image editing programs. That is, given a screen (represented by a two-dimensional array of colors), a point, and a new color, fill in the surrounding area until the color changes from the original color."
   ]
  },
  {
   "cell_type": "code",
   "execution_count": null,
   "metadata": {
    "collapsed": true
   },
   "outputs": [],
   "source": []
  },
  {
   "cell_type": "markdown",
   "metadata": {},
   "source": [
    "8.11 **Coins** Given an infinite number of quarters (25 cents), dimes(10cents), nickels(5 cents), and pennies(1 cent), write code to calculate the number of ways of representing n cents."
   ]
  },
  {
   "cell_type": "code",
   "execution_count": null,
   "metadata": {
    "collapsed": true
   },
   "outputs": [],
   "source": []
  },
  {
   "cell_type": "markdown",
   "metadata": {},
   "source": [
    "8.12 **Eight Queens**: Write an algorithm to print all ways of arranging eight queens on an 8x8 chess board, so that none of them share the same row, column, or diagonal. In this case, 'diagonal' means all diagonals, not just the two that bisect the board."
   ]
  },
  {
   "cell_type": "code",
   "execution_count": null,
   "metadata": {
    "collapsed": true
   },
   "outputs": [],
   "source": []
  },
  {
   "cell_type": "markdown",
   "metadata": {},
   "source": [
    "8.13 **Stack of Boxes**: You have a stack of n boxes, with width wi, heights hi, and depths di. The boxes cannot be rotated and can only be stacked on top of one another if each box in the stack is strictly larger than the box above it in width, height, and depth. Implement a method to compute the height of the tallest possible stack. The height of a stack is the sum of the heights of each box."
   ]
  },
  {
   "cell_type": "code",
   "execution_count": null,
   "metadata": {
    "collapsed": true
   },
   "outputs": [],
   "source": []
  },
  {
   "cell_type": "markdown",
   "metadata": {},
   "source": [
    "8.14 **Boolean Evaluation** Given a boolean expression consisting of the symbols 0 (False), 1(True), & (AND), |(OR), and ^ (XOR), and a desired boolean result value 'result', implement a function to count the number of ways of parenthesizing the expression such that it evaluates to result.\n",
    "EXAMPLE\n",
    "countEval('1^0|0|1', False) -> 2\n",
    "countEval('0&0&0&1^1|0', true) -> 10"
   ]
  },
  {
   "cell_type": "code",
   "execution_count": null,
   "metadata": {
    "collapsed": true
   },
   "outputs": [],
   "source": []
  }
 ],
 "metadata": {
  "kernelspec": {
   "display_name": "Python 2",
   "language": "python",
   "name": "python2"
  },
  "language_info": {
   "codemirror_mode": {
    "name": "ipython",
    "version": 2
   },
   "file_extension": ".py",
   "mimetype": "text/x-python",
   "name": "python",
   "nbconvert_exporter": "python",
   "pygments_lexer": "ipython2",
   "version": "2.7.11"
  }
 },
 "nbformat": 4,
 "nbformat_minor": 0
}
