{
 "cells": [
  {
   "cell_type": "markdown",
   "metadata": {},
   "source": [
    "## Chapter 4 - Trees and Graphs"
   ]
  },
  {
   "cell_type": "code",
   "execution_count": 1,
   "metadata": {
    "collapsed": true
   },
   "outputs": [],
   "source": [
    "class Graph:\n",
    "    def __init__(self):\n",
    "        self._graph = {}\n",
    "\n",
    "    def add_vertex(self,x):\n",
    "        if x not in self._graph:\n",
    "            self._graph[x] = []\n",
    "\n",
    "    def add_vertices(self,vertices):\n",
    "        for v in vertices:\n",
    "            self.add_vertex(v)\n",
    "\n",
    "    def add_edge(self,edge):\n",
    "        vertex1, vertex2 = tuple(edge)\n",
    "        if vertex1 in self._graph:\n",
    "            self._graph[vertex1].append(vertex2)\n",
    "        else:\n",
    "            self._graph[vertex1] = [vertex2]\n",
    "\n",
    "    def add_edges(self,edges):\n",
    "        for edge in edges:\n",
    "            self.add_edge(edge)\n",
    "\n",
    "    def get_edges(self):\n",
    "        edges = []\n",
    "        for v in self._graph:\n",
    "            for neigh in self._graph[v]:\n",
    "                edges.append(v,neigh)\n",
    "\n",
    "        return edges\n",
    "\n",
    "class TreeNode:\n",
    "    def __init__(self,val):\n",
    "        self.val = val\n",
    "        self.left = None\n",
    "        self.right = None\n",
    "        self.parent = None\n"
   ]
  },
  {
   "cell_type": "markdown",
   "metadata": {},
   "source": [
    "4.1 **Route between nodes** Given a directed graph, design an algorithm to find out whether there is a route between two nodes."
   ]
  },
  {
   "cell_type": "code",
   "execution_count": 2,
   "metadata": {
    "collapsed": true
   },
   "outputs": [],
   "source": [
    "def is_route(graph,start,end):\n",
    "    queue = [start]\n",
    "    visited = set()\n",
    "    visited.add(start)\n",
    "    while queue:\n",
    "        node = queue.pop(0)\n",
    "        for neighbour in graph[node]:\n",
    "            if neighbour not in visited:\n",
    "                if neighbour == end:\n",
    "                    return True\n",
    "                queue.append(neighbour)\n",
    "                visited.add(neighbour)\n",
    "    return False"
   ]
  },
  {
   "cell_type": "markdown",
   "metadata": {},
   "source": [
    "4.2 **Minimal Tree**: Given a sorted (increasing order) array with unique integer elements, write an algorithm to create a binary search tree with minimal height."
   ]
  },
  {
   "cell_type": "code",
   "execution_count": 3,
   "metadata": {
    "collapsed": true
   },
   "outputs": [],
   "source": [
    "def bst(array, start, end):\n",
    "    if start > end:\n",
    "        return None\n",
    "    \n",
    "    mid = (start + end) // 2\n",
    "    curr = TreeNode(array[mid])\n",
    "    curr.left = bst(array, start, mid-1)\n",
    "    curr.right = bst(array, mid+1, end)\n",
    "    return curr"
   ]
  },
  {
   "cell_type": "markdown",
   "metadata": {},
   "source": [
    "4.3 **List of Depths**: Given a  binary tree, deisng an algorithm which creates a linked list of all the nodes at each depth (e.g., if you have a tree with depth D, you'll have D linked lists)"
   ]
  },
  {
   "cell_type": "code",
   "execution_count": 4,
   "metadata": {
    "collapsed": true
   },
   "outputs": [],
   "source": [
    "def depths(tree,level,lists):\n",
    "    if not tree:\n",
    "        return\n",
    "    \n",
    "    lst = []\n",
    "    if len(lists) == level:\n",
    "        lst.append(tree)\n",
    "        lists.append(lst)\n",
    "    else:\n",
    "        lst = lists[level]\n",
    "        lst.append(tree)\n",
    "        \n",
    "    depths(tree.left,level+1,lists)\n",
    "    depths(tree.right,level+1,lists)"
   ]
  },
  {
   "cell_type": "markdown",
   "metadata": {},
   "source": [
    "4.4 **Check balanced** Implement a function to check if a binary tree is balanced. For the purpose of this question, a balanced binary tree is defined to be a tree such that the heights of the two subtrees of any node never differ by more than one."
   ]
  },
  {
   "cell_type": "code",
   "execution_count": 7,
   "metadata": {
    "collapsed": true
   },
   "outputs": [],
   "source": [
    "def height(root):\n",
    "    return 1 + max(height(root.left),height(root.right))\n",
    "\n",
    "def balanced(root):\n",
    "    if not root:\n",
    "        return 0\n",
    "    \n",
    "    left = balanced(root.left)\n",
    "    if left == -1:\n",
    "        return -1\n",
    "    \n",
    "    right = balanced(root.right)\n",
    "    if right == -1:\n",
    "        return -1\n",
    "    \n",
    "    diff = abs(left - right)\n",
    "    if diff > 1:\n",
    "        return -1\n",
    "    else:\n",
    "        return 1 + max(balanced(root.left), balanced(root.right))"
   ]
  },
  {
   "cell_type": "markdown",
   "metadata": {},
   "source": [
    "4.5 **Validate BST**"
   ]
  },
  {
   "cell_type": "code",
   "execution_count": 7,
   "metadata": {
    "collapsed": true
   },
   "outputs": [],
   "source": [
    "def validate_bst(root,low,high):\n",
    "    if not root:\n",
    "        return True\n",
    "    \n",
    "    alright = (low is None or root.val > low) and (high is None or root.val < high)\n",
    "    return alright and validate_bst(root.left,low,root.val) and validate_bst(root.right,root.val,high)"
   ]
  },
  {
   "cell_type": "markdown",
   "metadata": {},
   "source": [
    "4.6 **Successor** Write an algorithm to find the next node (i.e. in-order successor) of a given node in a binary search tree. You may asume that each node has a link to its parent."
   ]
  },
  {
   "cell_type": "code",
   "execution_count": 8,
   "metadata": {
    "collapsed": true
   },
   "outputs": [],
   "source": [
    "def successor(node):\n",
    "    if node.right:\n",
    "        temp = node.right\n",
    "        while temp.next:\n",
    "            temp = temp.next\n",
    "        return temp\n",
    "    else:\n",
    "        temp = node.parent\n",
    "        while temp.parent.left != temp:\n",
    "            temp = temp.parent\n",
    "        return temp"
   ]
  },
  {
   "cell_type": "markdown",
   "metadata": {},
   "source": [
    "4.7 **Build Order** - You are given a list of projects and a list of dependencies. All of a project's dependencies must be built before the project is. Find a build order that will allow the projects to be built. If there is not a valid bulid order, reurn an error."
   ]
  },
  {
   "cell_type": "code",
   "execution_count": 5,
   "metadata": {
    "collapsed": false
   },
   "outputs": [],
   "source": [
    "class Sol47:\n",
    "\n",
    "    def __init__(self,graph):\n",
    "        self.graph = graph\n",
    "\n",
    "    def build_order(self):\n",
    "        self.order = []\n",
    "        self.visited = set()\n",
    "        self.partial = set()\n",
    "        for node in self.graph:\n",
    "            if node not in self.visited:\n",
    "                if not self.dfs(node):\n",
    "                    return None\n",
    "        return self.order[::-1]\n",
    "\n",
    "    def dfs(self,node):\n",
    "        if node in self.partial:\n",
    "            return False\n",
    "\n",
    "        for neighbour in self.graph[node]:\n",
    "            self.partial.add(node)\n",
    "            if neighbour not in self.visited:\n",
    "                if not self.dfs(neighbour):\n",
    "                    return False\n",
    "\n",
    "        self.visited.add(node)\n",
    "        self.order.append(node)\n",
    "        return True"
   ]
  },
  {
   "cell_type": "markdown",
   "metadata": {},
   "source": [
    "4.8 **First Common Ancestor**: Design an algorithm to write code to find the first common ancestor of two nodes in a binary tree. Avoid storing additional nodes in a datastructure. NOTE: This is not necessarily a binary search tree."
   ]
  },
  {
   "cell_type": "code",
   "execution_count": 8,
   "metadata": {
    "collapsed": true
   },
   "outputs": [],
   "source": [
    "# INPUT: root, first_node, second_node\n",
    "# OUTPUT: node that is first common ancestor (or least common ancestor)\n",
    "\n",
    "# Several approaches are possible, the most obvious one seems to be conditined by having a pointer to the parent node\n",
    "# You would then just travel upwards until you reach the root node (or the LCA), and count the number of steps until\n",
    "# the root. Accounting for the difference position the node furthest to the root closer by (difference) steps, and then\n",
    "# just go up.\n",
    "\n",
    "# Obviously this is not a very generalized solution. Another solution would be to count the number of occurences\n",
    "# of the searched for nodes recursively starting from the root. And move accordingly until there is one on each side.\n",
    "# So: Start at root, recursively look for 'first_node' and 'second_node' in both subtrees, there are 3 cases:\n",
    "# - 2 hits on the left, we need to move left - 2 hits on the right, we need to move right,\n",
    "# - one hit on each side means the current node is the LCA.\n",
    "# While this top-down approach works for the general case, it is inefficient (O(N^2)), because we are constantly looking at \n",
    "# the same nodes over and over again.\n",
    "\n",
    "# A better approach would be to look for the nodes in a bottom-up manner. When we find a node we propagate it upwards.\n",
    "# Until we've found both nodes.\n",
    "def LCA(root,p,q):\n",
    "    if not root:\n",
    "        return None\n",
    "    \n",
    "    # Found one of the nodes we are looking for.\n",
    "    if root == p or root == q:\n",
    "        return root\n",
    "    \n",
    "    # Recursively look for the nodes in both subtrees.\n",
    "    L = LCA(root.left,p,q)\n",
    "    R = LCA(root.right,p,q)\n",
    "    \n",
    "    # If we have found both, return the current node.\n",
    "    if L and R:\n",
    "        return root\n",
    "    \n",
    "    # Return either one we have found\n",
    "    return L or R\n",
    "\n",
    "# This approach leverages the idea of recrusively searching for something in a binary tree in a bottom-up manner\n",
    "# And being able to 'propagate' that value upwards.\n",
    "# The previous exercise where u needed to check if a binary tree is balanced uses a similar approach.\n",
    "# It first searched downwards on both subtrees. The corner cases are: the basic corner case where we have reached the \n",
    "# end of the subtree, we either return or some specific value. Then we take the values of the subtrees and treat specific cases\n",
    "# that interest us (in that case if the result was -1 then we would just propagatate that upwards.). \n",
    "# For this exercise we were intersted in finding specific nodes. So we used the current node(root) as a container for what\n",
    "# we propagated upwards in the tree, so we can actually check for specific values before performing the recursive search\n",
    "# this might seem confusing at first, but it applies strictly because to the case where u are basically not using tail recursion\n",
    "# to propagate a VALUE but rather a specific node. If we were using a VALUE to determine what to do next in the tree we needed\n",
    "# to do the recrusive search first."
   ]
  },
  {
   "cell_type": "markdown",
   "metadata": {},
   "source": [
    "4.9 **BST Sequences** - A binary search tree was created by traversing through an array from left to right, and inserting each element. Given a binary search tree with distinct elements, print all possible arrays that could have led to this tree.\n",
    "EXAMPLE\n",
    "INPUT: 1<-2->3\n",
    "Output: {2,1,3},{2,3,1}"
   ]
  },
  {
   "cell_type": "code",
   "execution_count": 18,
   "metadata": {
    "collapsed": true
   },
   "outputs": [],
   "source": [
    "# There was a similar problem with this one in the google foobar challenge. It involved however counting the number\n",
    "# of ways one could a specific binary search tree from an array, but not all the arrays one needs.\n",
    "\n",
    "\"\"\"\n",
    "The idea behind the algorithm is understanding how the binary search tree is constructed, and how that relates to the\n",
    "positions of the elements in the array.\n",
    "How do we insert an element in a binary search tree? We recursively search through the tree, smaller values go left,\n",
    "larger values go right, until we find an empty spot. At that spot we place the current element we are trying to insert.\n",
    "\n",
    "So if we have a binary search tree with 50 at the root, in the array that constructed the binary seearch tree 50 has to \n",
    "be the first element. The next elements will be children of the root. The order of left-right placed elements doesn't matter.\n",
    "Only the order of the elements that are relatively the same comapred to the current root. So if root is 50, when we get,\n",
    "{20, 60}, their order is irrelevant. So we have 2 possible arrays that can form the tree 20<-50->60: {50,20,60},{50,60,20}.\n",
    "\n",
    "When we recieve elements that relative to the root are in the same category (samller, or larger) then the order matters.\n",
    "So {50,20,10}, we cannot use {50,10,20}, this would be a different tree because it would modify the value of the left child.\n",
    "Initially being 20 and in the second case it would be 10.\n",
    "\n",
    "So lets say we had the subarrays for left and right child of the root. Call them leftArray20, and rightArray60. How would we\n",
    "construct the arrays where the root is also included? We need to 'weave' the arrays, and for each combination prepend the value\n",
    "of the root.\n",
    "\n",
    "What is 'weaving'? Getting all the possible combinations by combining the elements of 2 arrays, while still preserving the relative\n",
    "order of the elements. So for {1,2} and {3,4}, we would get: {1,2,3,4}, {1,3,2,4}, {1,3,4,2}, {3,1,2,4}, {3,1,4,2}, {3,4,1,2}.\n",
    "See that the relative order of the elements in the individual arrays is preserved in the combination arrays.\n",
    "\n",
    "Lets build the weaving function first. It would recieve 2 arrays as arguments, a 3rd array to store the final result, and a prefix\n",
    "array that is optional and can be empty.\n",
    "\n",
    "What we do is basically chop elements from the first and second arrays and add them to the prefix, when either first or second,\n",
    "is empty we have an array constructed and add it to the results.\n",
    "\"\"\"\n",
    "\n",
    "def weave_lists(first, second, results, prefix=[]):\n",
    "    # Base Case\n",
    "    # Check if first or second are empty\n",
    "    if not first or not second:\n",
    "        # Prepend prefix\n",
    "        result = prefix[:]\n",
    "        result.extend(first)\n",
    "        result.extend(second)\n",
    "\n",
    "        # Add to final results\n",
    "        results.append(result)\n",
    "        return\n",
    "\n",
    "    # Remove elements and recurse\n",
    "    # Use backtracking to put items back\n",
    "    # Always remove first element of array\n",
    "\n",
    "    headFirst = first.pop(0)\n",
    "    prefix.append(headFirst)\n",
    "    weave_lists(first,second,results,prefix)\n",
    "    prefix.pop()\n",
    "    first.insert(0,headFirst)\n",
    "\n",
    "    headSecond = second.pop(0)\n",
    "    prefix.append(headSecond)\n",
    "    weave_lists(first,second,results,prefix)\n",
    "    prefix.pop()\n",
    "    second.insert(0,headSecond)\n",
    "    \n",
    "\"\"\"\n",
    "Now let's focus on using the weaveing function to build all possible sequences.\n",
    "We are gonna use a bottom up approach, basically we are going to recurse to the bottom of the three and start from the leaves\n",
    "building up the arrays for each subtree on each node.\n",
    "So you would have initially 1 element arrays for the leaves. Then next level (call it n-1) would use the leaving function to combine\n",
    "2 arrays with 1 elements, and prepend the value at that node to each array. And so on.\n",
    "\"\"\"\n",
    "\n",
    "def allSequences(root):\n",
    "    # All results stored here\n",
    "    result = []\n",
    "    # Base case, no node.\n",
    "    if not root:\n",
    "        result.append([])\n",
    "        return result\n",
    "\n",
    "    # We are going to use the value of the current node as\n",
    "    # a prefix to the arrays from the subtrees that are going to be weaved.\n",
    "    prefix = [root.val]\n",
    "\n",
    "    # Recurse in subtrees\n",
    "    leftSequences = allSequences(root.left)\n",
    "    rightSequences = allSequences(root.right)\n",
    "\n",
    "    # To try out all possible combinations. Weave together each list from each side.\n",
    "    for leftSeq in leftSequences:\n",
    "        for rightSeq in rightSequences:\n",
    "            # Store weave results\n",
    "            weaved = []\n",
    "            weave_lists(leftSeq,rightSeq,weaved,prefix)\n",
    "            result.extend(weaved)\n",
    "\n",
    "    return result"
   ]
  },
  {
   "cell_type": "markdown",
   "metadata": {},
   "source": [
    "4.10 **Check Subtree** - T1 and T2 are two very large binary trees, with T1 much bigger than T2. Create an algorithm to determine if T2 is a subtree of T1. A tree T2 is a subtree of T1 if there exists a node n in T1 such that the subtree of n is identical to T2. This is, if you cut off the tree at node n, the two trees would be identical."
   ]
  },
  {
   "cell_type": "code",
   "execution_count": 20,
   "metadata": {
    "collapsed": true
   },
   "outputs": [],
   "source": [
    "\"\"\"\n",
    "We must determine if T1 has a subtree with identical structures and values with T2.\n",
    "We could use a traversal (in-order for example) saving the values, maybe as strings, inside an array. And then looking\n",
    "for a structure like the one outputed traversing T2 inside T1 (substring matching basically.)\n",
    "\n",
    "An alternative approach would be to search within the larger tree (T1) looking for a node that matches the root of\n",
    "T2. Then we would call another method to tell us if the subtree is an exact match. (we would recurse inside the subtree\n",
    "as well as T2 at the same time.)\n",
    "\n",
    "Initially let's build the method that recurses through the larger tree looking for a node that matches the value of \n",
    "the root of T2.\n",
    "\"\"\"\n",
    "def check_subtree(t1root,t2root):\n",
    "    # Base case\n",
    "    # We've reached the end of the tree and haven't found a match.\n",
    "    if not t1root:\n",
    "        return False\n",
    "    \n",
    "    # We've found a node with the exact same value as the root of T2.\n",
    "    if t1root.val == t2.root.val:\n",
    "        # Determine if it is a match, and if so return True\n",
    "        if is_match(t1root,t2root):\n",
    "            return True\n",
    "    \n",
    "    # Recurse top down\n",
    "    return check_subtree(t1root.left,t2root) or check_subtree(t1root.right,t2root)\n",
    "\n",
    "def is_match(t1root,t2root):\n",
    "    # We've reached the end of the subtree and all values have matched, return True\n",
    "    if not t2root:\n",
    "        return True\n",
    "    \n",
    "    # We've reached an end for the larger tree, and still have some nodes left in the subtree.\n",
    "    if not t1root:\n",
    "        return False\n",
    "    \n",
    "    # Values differ, can't be identical subtree\n",
    "    if t1root.val != t2root.val:\n",
    "        return False\n",
    "    \n",
    "    # Continue to recurse and check top-down for all values to match.\n",
    "    return is_match(t1root.left,t2root.left) and is_match(t1root.right,t2root.right)"
   ]
  },
  {
   "cell_type": "markdown",
   "metadata": {},
   "source": [
    "4.11 **Random Node** - You are implementing a binary tree class from scratch which, in addition to insert, find, and delete, has a method getRandomNode() which returns a random node from the tree. All nodes should be equally likely to be chosen. Design and implement an algorithm for getRandomNode, and explain how you would implement the rest of the methods."
   ]
  },
  {
   "cell_type": "code",
   "execution_count": 22,
   "metadata": {
    "collapsed": true
   },
   "outputs": [],
   "source": [
    "\"\"\"\n",
    "I need to review probability theory again for this one.\n",
    "One option would be to build the tree normally and when getRandomNode() is used we would use a traversal algorithm to \n",
    "store all the tree values in an array, and then just return a random element. Time and space would both be O(N). \n",
    "Solution is too obvious, let's look for something more efficient.\n",
    "Because we are building the class for the binary tree, we should leverage that and use an internal data structure. \n",
    "However, lets say even if we stored the values as an array while building it, and random access would be O(1), delete\n",
    "would still be O(N).\n",
    "\n",
    "Well I guess probability theory isn't really necessary, logically every node should have 1/N chances of being selected.\n",
    "Where N = number of nodes in the tree. This means that when we are at the root, the root should have 1/N chance of being\n",
    "selected, and going left and right should have probabilities distributed depending on the sizes of the subtrees.\n",
    "\n",
    "Example: tree with root and left subtree has 8 nodes, right subtree has 4 nodes. We should go left more often than right\n",
    "logically. How often? Well we have 13 nodes in total. The root should have probability 1/13, going left 8/13 and going\n",
    "right 4/13, so they add up to 1.\n",
    "\n",
    "This means that at each point(node) we compute a random number between 1 and N and depending on its value go left right\n",
    "or choose the current node. We can store the size of the subtrees inside each node as a variable.\n",
    "\"\"\"\n",
    "import random\n",
    "class RandomTree:\n",
    "    def __init__(self,val):\n",
    "        self.val = val\n",
    "        self.size = 1 # the current node counts to the size\n",
    "        self.left = None\n",
    "        self.right = None\n",
    "        \n",
    "    def insert(self,val):\n",
    "        if val <= self.val:\n",
    "            if not self.left:\n",
    "                self.left = RandomTree(val)\n",
    "            else:\n",
    "                self.left.insert(val)\n",
    "        else:\n",
    "            if not self.right:\n",
    "                self.right = RandomTree(val)\n",
    "            else:\n",
    "                self.right.insert(val)\n",
    "        \n",
    "        self.size += 1\n",
    "    \n",
    "    def find(self,val):\n",
    "        if self.val == val:\n",
    "            return self\n",
    "        elif self.val < val:\n",
    "            self.right.find(val)\n",
    "        else:\n",
    "            self.left.find(val)\n",
    "            \n",
    "    \n",
    "    def getRandomNode(self):\n",
    "        leftSize = self.left.size if self.left else 0\n",
    "        index = random.randint(0,leftSize)\n",
    "        if index < leftSize:\n",
    "            return self.left.getRandomNode()\n",
    "        elif index == leftSize:\n",
    "            return self\n",
    "        else:\n",
    "            return self.right.getRandomNode()"
   ]
  },
  {
   "cell_type": "markdown",
   "metadata": {},
   "source": [
    "4.12 **Paths with Sum**: You are given a binary tree in which each node contains an integer value (which might be positive or negative). Design an algorithm to count the number of paths that sum to a given value. The path does not need to start or end at the root or a leaf, but it must go downwards (traveling only from parent nodes to child nodes)."
   ]
  },
  {
   "cell_type": "code",
   "execution_count": 23,
   "metadata": {
    "collapsed": true
   },
   "outputs": [],
   "source": [
    "\"\"\"\n",
    "I guess a brute-force approach would be to start searching from each node in the tree and sum up every possible \n",
    "combination. Basically looking at each possible path, tracking the sum as we go. As soon as we hit a target sum,\n",
    "we increment a counter.\n",
    "\"\"\"\n",
    "# Top down brute force aproach\n",
    "\"\"\"\n",
    "A top down approach means operating initially on the current node. And then recursing and applying the same operation\n",
    "on the left and right child. The result from all 3 is then combined or modified depending on the type of problem,\n",
    "and returned or again whatever is needed to do with it.\n",
    "\n",
    "Both of these fucntions use a top down appoarch. The first one is used to travel through the tree and at each node\n",
    "count the number of paths starting from that node, that might form the target value, so we are going to get back\n",
    "a count. Then we need the count for the entire left subtree and right subtree for the same problem. Adding them up\n",
    "gives us the total number of paths that sum up to the target in the tree.\n",
    "\n",
    "What does the second function do? It also recurses top down through the tree. It also keeps a sum variable which\n",
    "holds the sum of all the node values we have encountered so far. Basically tracing a path through the entire tree.\n",
    "At each node it reaches, it adds the nodes value to the running sum (# operates on current node first) and then\n",
    "determines if the current sum is equal to the target we are looking for. If it is, it increments a variable that\n",
    "holds the number of paths in the tree starting at that node. Then it computes the number of paths, recursively, for\n",
    "the left and right tree and returns the total number of paths found.\n",
    "\"\"\"\n",
    "def brute_force_count(root, target):\n",
    "    if not root:\n",
    "        return 0\n",
    "    \n",
    "    # Count paths for current node\n",
    "    paths_root = count_path(root,target,0)\n",
    "    \n",
    "    # Recursively do this for left and right node\n",
    "    left_paths = brute_force_count(root.left,target)\n",
    "    right_paths = brute_force_count(root.right,target)\n",
    "    \n",
    "    return paths_root + left_paths + right_paths\n",
    "\n",
    "# This will return the number of paths that sum up to target\n",
    "# STARTING SPECIFICALLY from this node.\n",
    "def count_path(root,target,current_sum):\n",
    "    if not root:\n",
    "        return 0\n",
    "    \n",
    "    current_sum += node.val\n",
    "    \n",
    "    total_paths = 0\n",
    "    if current_sum == target:\n",
    "        total_paths += 1\n",
    "        \n",
    "    total_paths += count_path(root.left,target,current_sum)\n",
    "    total_paths += count_path(root.right,target,current_sum)\n",
    "    \n",
    "    return total_paths\n",
    "\n",
    "# Optimizing the algorithm as current approach is O(N^2)\n"
   ]
  },
  {
   "cell_type": "code",
   "execution_count": null,
   "metadata": {
    "collapsed": true
   },
   "outputs": [],
   "source": []
  }
 ],
 "metadata": {
  "kernelspec": {
   "display_name": "Python 2",
   "language": "python",
   "name": "python2"
  },
  "language_info": {
   "codemirror_mode": {
    "name": "ipython",
    "version": 2
   },
   "file_extension": ".py",
   "mimetype": "text/x-python",
   "name": "python",
   "nbconvert_exporter": "python",
   "pygments_lexer": "ipython2",
   "version": "2.7.11"
  }
 },
 "nbformat": 4,
 "nbformat_minor": 0
}
