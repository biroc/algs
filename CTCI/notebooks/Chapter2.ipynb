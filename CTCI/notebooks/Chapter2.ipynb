{
 "cells": [
  {
   "cell_type": "markdown",
   "metadata": {},
   "source": [
    "## Chapter 2 - Linked Lists"
   ]
  },
  {
   "cell_type": "code",
   "execution_count": 9,
   "metadata": {
    "collapsed": true
   },
   "outputs": [],
   "source": [
    "class Node:\n",
    "    def __init__(self,value):\n",
    "        self.next = None\n",
    "        self.value = value\n",
    "        \n",
    "    def __str__(self):\n",
    "        return \"Node with value \" + str(self.value)"
   ]
  },
  {
   "cell_type": "code",
   "execution_count": 10,
   "metadata": {
    "collapsed": true
   },
   "outputs": [],
   "source": [
    "def create_list(array):\n",
    "    if not array:\n",
    "        return None\n",
    "\n",
    "    head = Node(array[0])\n",
    "    temp = head\n",
    "    for i in range(1,len(array)):\n",
    "        temp.next = Node(array[i])\n",
    "        temp = temp.next\n",
    "\n",
    "    return head"
   ]
  },
  {
   "cell_type": "code",
   "execution_count": 11,
   "metadata": {
    "collapsed": true
   },
   "outputs": [],
   "source": [
    "def print_l(head):\n",
    "    if not head:\n",
    "        print(\"No list\")\n",
    "\n",
    "    temp = head\n",
    "    to_print = \"\"\n",
    "    while(temp):\n",
    "        to_print += str(temp.value)\n",
    "        if temp.next:\n",
    "            to_print +=  \" -> \"\n",
    "        temp = temp.next\n",
    "\n",
    "    print(to_print)"
   ]
  },
  {
   "cell_type": "markdown",
   "metadata": {},
   "source": [
    "2.1 **Remove Dups**: Write code to remove duplicates from an unsorted linked list."
   ]
  },
  {
   "cell_type": "code",
   "execution_count": 20,
   "metadata": {
    "collapsed": true
   },
   "outputs": [],
   "source": [
    "def remove_dups(root):\n",
    "    buffer = {}\n",
    "    temp = root\n",
    "    while temp and temp.next:\n",
    "        buffer[temp.value] = True\n",
    "        if temp.next.value in buffer:\n",
    "            node = temp.next\n",
    "            while node and node.value in buffer:\n",
    "                node = node.next\n",
    "            temp.next = node\n",
    "        temp = temp.next\n",
    "    \n",
    "    return root"
   ]
  },
  {
   "cell_type": "markdown",
   "metadata": {},
   "source": [
    "2.2 **Return Kth to Last** - Implement an algorithm to find the kth ot last element of a singly linked list."
   ]
  },
  {
   "cell_type": "code",
   "execution_count": 25,
   "metadata": {
    "collapsed": true
   },
   "outputs": [],
   "source": [
    "def kth_to_last(head, k):\n",
    "    runner = head\n",
    "    while k > 0 :\n",
    "        runner = runner.next\n",
    "        k -= 1\n",
    "    temp = head\n",
    "    while runner and runner.next:\n",
    "        temp = temp.next\n",
    "        runner = runner.next\n",
    "    return temp"
   ]
  },
  {
   "cell_type": "markdown",
   "metadata": {},
   "source": [
    "2.3 **Delete middle node** - Implement an algorithm to delete a node in the middle of a singly linked list. Given only access to that node."
   ]
  },
  {
   "cell_type": "code",
   "execution_count": 26,
   "metadata": {
    "collapsed": true
   },
   "outputs": [],
   "source": [
    "def delete_node(node):\n",
    "    node.next = node.next.next"
   ]
  },
  {
   "cell_type": "markdown",
   "metadata": {},
   "source": [
    "2.4 **Partition** - Write code to partition a linked list around a value x, such that all nodes less than x come before all nodes greater than or equal to x. If x is contained withing the list, vthe values of x only need to be after the elements less than x.\n",
    "EXAMPLE\n",
    "Input: 3->5->8->5->10->2->1 , partition = 5\n",
    "OUTPUT: 3->1->2->10->5->5->8"
   ]
  },
  {
   "cell_type": "code",
   "execution_count": 27,
   "metadata": {
    "collapsed": true
   },
   "outputs": [],
   "source": [
    "def partition(head, partition):\n",
    "    if not head:\n",
    "        return None\n",
    "    \n",
    "    smallHead = smallTail = Node(0)\n",
    "    bigHead = bigTail = Node(0)\n",
    "    temp = head\n",
    "    while temp and temp.next:\n",
    "        if temp.value <= partition:\n",
    "            smallTail.next = temp\n",
    "            smallTail = smallTail.next\n",
    "        else:\n",
    "            bigTail.next = temp\n",
    "            bigTail = bigTail.next\n",
    "        temp = temp.next\n",
    "    smallTail.next = bigHead.next\n",
    "    bigTail.next = None\n",
    "    \n",
    "    return smallTail.next"
   ]
  },
  {
   "cell_type": "markdown",
   "metadata": {},
   "source": [
    "2.5 **Sum Lists** - Sum linked lists."
   ]
  },
  {
   "cell_type": "code",
   "execution_count": null,
   "metadata": {
    "collapsed": true
   },
   "outputs": [],
   "source": []
  },
  {
   "cell_type": "markdown",
   "metadata": {},
   "source": [
    "2.6 **Palindrome** - Implement a function to check if a linked list is a palindrome."
   ]
  },
  {
   "cell_type": "code",
   "execution_count": 1,
   "metadata": {
    "collapsed": true
   },
   "outputs": [],
   "source": [
    "# Implementation using stack\n",
    "# Time O(N)\n",
    "# Space O(N/2)\n",
    "def is_palindrome(head):\n",
    "    if not head:\n",
    "        return True\n",
    "\n",
    "    stack = []\n",
    "    temp = head\n",
    "    runner = head\n",
    "    while runner and runner.next:\n",
    "        stack.append(temp.value)\n",
    "        temp = temp.next\n",
    "        runner = runner.next.next\n",
    "        \n",
    "    if runner:\n",
    "        temp = temp.next\n",
    "        \n",
    "    while temp:\n",
    "        if temp.value != stack.pop():\n",
    "            return False\n",
    "        temp = temp.next\n",
    "    \n",
    "    return True\n",
    "\n",
    "# Implementation using reverse \n",
    "# Time: O(N)\n",
    "# Space: O(1)\n",
    "def is_palindrome2(head):\n",
    "    if not head:\n",
    "        return True\n",
    "    \n",
    "    prev = None\n",
    "    temp = head\n",
    "    runner = head\n",
    "    while runner and runner.next:\n",
    "        runner = runner.next.next\n",
    "        next = temp.next\n",
    "        temp.next = prev\n",
    "        prev = temp\n",
    "        temp = next\n",
    "    \n",
    "    if runner:\n",
    "        temp = temp.next\n",
    "    \n",
    "    while temp and prev:\n",
    "        if prev.value != temp.value:\n",
    "            return False\n",
    "        prev = prev.next\n",
    "        temp = temp.next\n",
    "    \n",
    "    return True"
   ]
  },
  {
   "cell_type": "markdown",
   "metadata": {},
   "source": [
    "2.7 **Intersection** Given two singly linked lists, determine if the two lists intersect. Return the intersection node. Note that the intersection is defined based on reference, not value."
   ]
  },
  {
   "cell_type": "code",
   "execution_count": 2,
   "metadata": {
    "collapsed": false
   },
   "outputs": [
    {
     "ename": "SyntaxError",
     "evalue": "invalid syntax (<ipython-input-2-76a7aa9e7afc>, line 17)",
     "output_type": "error",
     "traceback": [
      "\u001b[0;36m  File \u001b[0;32m\"<ipython-input-2-76a7aa9e7afc>\"\u001b[0;36m, line \u001b[0;32m17\u001b[0m\n\u001b[0;31m    larger =\u001b[0m\n\u001b[0m             ^\u001b[0m\n\u001b[0;31mSyntaxError\u001b[0m\u001b[0;31m:\u001b[0m invalid syntax\n"
     ]
    }
   ],
   "source": [
    "def intersection(head1,head2):\n",
    "    temp1 = head1\n",
    "    temp2 = head2\n",
    "    count1 = 0\n",
    "    count2 = 0\n",
    "    while temp1 and temp1.next:\n",
    "        count1 += 1\n",
    "        temp1 = temp1.next\n",
    "    \n",
    "    while temp2 and temp2.next:\n",
    "        count2 += 1\n",
    "        temp2 = temp2.next\n",
    "        \n",
    "    if temp1 != temp2:\n",
    "        return None\n",
    "    \n",
    "    larger = \n",
    "    \n",
    "    "
   ]
  },
  {
   "cell_type": "markdown",
   "metadata": {},
   "source": [
    "2.8 **Loop detection** Given a circular linked list, implement an algorithm that returns the node at the beginning of the loop.\n",
    "DEFINITION\n",
    "Circular linked list: A (corrupt) linked list in which a node's next pointer points to an earlier node, so as to make a loop in the linked list.\n",
    "EXAMPLE\n",
    "Input: A->B->C->D->E->C [the same C as earlier]\n",
    "Output: C"
   ]
  },
  {
   "cell_type": "code",
   "execution_count": 3,
   "metadata": {
    "collapsed": true
   },
   "outputs": [],
   "source": [
    "def loop_detection(head):\n",
    "    if not head or not head.next:\n",
    "            return None\n",
    "    \n",
    "    temp = head\n",
    "    runner = head\n",
    "    while runner and runner.next:\n",
    "        temp = temp.next\n",
    "        runner = runner.next.next\n",
    "        if temp == runner:\n",
    "            break\n",
    "\n",
    "    if not runner or not runner.next:\n",
    "        return None\n",
    "\n",
    "    temp = head\n",
    "    while temp != runner:\n",
    "        temp = temp.next\n",
    "        runner = runner.next\n",
    "\n",
    "    return temp\n",
    "    "
   ]
  },
  {
   "cell_type": "code",
   "execution_count": null,
   "metadata": {
    "collapsed": true
   },
   "outputs": [],
   "source": []
  }
 ],
 "metadata": {
  "kernelspec": {
   "display_name": "Python 2",
   "language": "python",
   "name": "python2"
  },
  "language_info": {
   "codemirror_mode": {
    "name": "ipython",
    "version": 2
   },
   "file_extension": ".py",
   "mimetype": "text/x-python",
   "name": "python",
   "nbconvert_exporter": "python",
   "pygments_lexer": "ipython2",
   "version": "2.7.11"
  }
 },
 "nbformat": 4,
 "nbformat_minor": 0
}
